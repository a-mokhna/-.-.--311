{
  "cells": [
    {
      "cell_type": "markdown",
      "metadata": {
        "id": "view-in-github",
        "colab_type": "text"
      },
      "source": [
        "<a href=\"https://colab.research.google.com/github/a-mokhna/-.-.--311/blob/main/%D0%9B%D0%B0%D0%B1%D0%BE%D1%80%D0%B0%D1%82%D0%BE%D1%80%D0%BD%D0%B0%D1%8F_3.ipynb\" target=\"_parent\"><img src=\"https://colab.research.google.com/assets/colab-badge.svg\" alt=\"Open In Colab\"/></a>"
      ]
    },
    {
      "cell_type": "code",
      "source": [
        "month=input(\"введите значение\")\n",
        "if month=='1':\n",
        "   print('Январь')\n",
        "elif month=='2':\n",
        "   print('Февраль')\n",
        "elif month=='3':\n",
        "   print('Март')  \n",
        "elif month=='4':\n",
        "   print('Апрель')\n",
        "elif month=='5':\n",
        "   print('Май')\n",
        "elif month=='6':\n",
        "   print('Июнь')\n",
        "elif month=='7':\n",
        "   print('Июль')\n",
        "elif month=='8':\n",
        "     print('Август')\n",
        "elif month=='9':\n",
        "   print('Сентябрь')\n",
        "elif month=='10':\n",
        "   print('Октябрь')\n",
        "elif month=='11':\n",
        "   print('Ноябрь')\n",
        "elif month=='12':\n",
        "   print('Декабрь')\n",
        "else:\n",
        "  print('введите значение от 1 до 12')"
      ],
      "metadata": {
        "id": "uo1A-_4ZTIV5"
      },
      "execution_count": null,
      "outputs": []
    },
    {
      "cell_type": "code",
      "source": [
        "a=int(input(\"Введите число\"))\n",
        "if a%2==0:\n",
        "  print('чётное число')\n",
        "else:\n",
        "  print('нечётное число')"
      ],
      "metadata": {
        "id": "pnNVyFtkg7S2"
      },
      "execution_count": null,
      "outputs": []
    },
    {
      "cell_type": "code",
      "source": [
        "n=int(input(\"введите значение\"))\n",
        "if n>40:\n",
        "  print('stonks')\n",
        "else:\n",
        "  print('not stonks')  "
      ],
      "metadata": {
        "id": "Yn-Whq0DnThc"
      },
      "execution_count": null,
      "outputs": []
    },
    {
      "cell_type": "code",
      "source": [
        "\n",
        "n = int(input())\n",
        "def is_year_leap(n):\n",
        " if n % 4 == 0:\n",
        " return True\n",
        " else:\n",
        " return False\n",
        "print(is_year_leap(n))"
      ],
      "metadata": {
        "id": "nVy7qRb3pVsw"
      },
      "execution_count": null,
      "outputs": []
    },
    {
      "cell_type": "code",
      "source": [
        "\n",
        "n = int(input())\n",
        "def is_prime(n):\n",
        " if n < 1:\n",
        " return False\n",
        " for i in range(2, n + 1):\n",
        " if i != n and n % i == 0:\n",
        " return False\n",
        " return True\n",
        "print(is_prime(n))"
      ],
      "metadata": {
        "id": "vaVdgojIIhSj"
      },
      "execution_count": null,
      "outputs": []
    },
    {
      "cell_type": "code",
      "source": [
        "from posixpath import abspath\n",
        "a=float(input(\"Введите число\"))\n",
        "b=float(input(\"Введите число\"))\n",
        "if a/b==3.6:\n",
        "  c = a + b\n",
        "  a = c - a\n",
        "  b = c - b\n",
        "elif b>(abs((-138/2)**1.3)) and b<(abs((-69/28**5.1)*4)):\n",
        "   c = a + b\n",
        "   a = c - a\n",
        "   b = c - b\n",
        "print(a)\n",
        "print(b)"
      ],
      "metadata": {
        "id": "xZq426yMIhsR"
      },
      "execution_count": null,
      "outputs": []
    },
    {
      "cell_type": "code",
      "source": [
        "numbs = []\n",
        "uniq = []\n",
        "\n",
        "chet = 0\n",
        "neg = 0\n",
        "in_range = 0\n",
        "\n",
        "for i in range(5):\n",
        "  numb = int(input())\n",
        "  numbs.append(numb)\n",
        "\n",
        "for numb in numbs:\n",
        "  if not numb in uniq:\n",
        "    uniq.append(numb)\n",
        "\n",
        "  if numb % 2 == 0:\n",
        "    chet += 1\n",
        "  \n",
        "  if numb < 0:\n",
        "    neg += 1\n",
        "\n",
        "  if numb >= -256 and numb <= 1024:\n",
        "    in_range += 1\n",
        "  \n",
        "if len(numbs) == len(uniq):\n",
        "  print(\"все числа уникальны\")\n",
        "else:\n",
        "  print(\"не все числа уникальны\")\n",
        "\n",
        "print(\"четных чисел\", chet)\n",
        "print(\"отрицательных чисел\", neg)\n",
        "print(\"количество чисел в промежутке\", in_range)"
      ],
      "metadata": {
        "id": "XiaVLRf-gek5"
      },
      "execution_count": null,
      "outputs": []
    },
    {
      "cell_type": "code",
      "source": [
        "\n",
        "a = float(input())\n",
        "b = float(input())\n",
        "c = float(input())\n",
        "\n",
        "if c != -3:\n",
        "  ner = ((a ** 2 + b ** 3) / (c + 3)) / 4\n",
        "\n",
        "  if ner % 2 == 0:\n",
        "    print(\"число четное\")\n",
        "  else:\n",
        "    print(\"число нечетное\")\n",
        "  \n",
        "else:\n",
        "  print(\"решений нет\")"
      ],
      "metadata": {
        "id": "KwcIoEu44aM_"
      },
      "execution_count": null,
      "outputs": []
    }
  ],
  "metadata": {
    "colab": {
      "collapsed_sections": [],
      "provenance": [],
      "include_colab_link": true
    },
    "kernelspec": {
      "display_name": "Python 3",
      "name": "python3"
    }
  },
  "nbformat": 4,
  "nbformat_minor": 0
}