{
  "nbformat": 4,
  "nbformat_minor": 0,
  "metadata": {
    "colab": {
      "provenance": [],
      "authorship_tag": "ABX9TyOItbuvIvjFnIPfu/Mu1VR+",
      "include_colab_link": true
    },
    "kernelspec": {
      "name": "python3",
      "display_name": "Python 3"
    },
    "language_info": {
      "name": "python"
    }
  },
  "cells": [
    {
      "cell_type": "markdown",
      "metadata": {
        "id": "view-in-github",
        "colab_type": "text"
      },
      "source": [
        "<a href=\"https://colab.research.google.com/github/a-mokhna/-.-.--311/blob/main/%D0%9B%D0%B0%D0%B1%D0%BE%D1%80%D0%B0%D1%82%D0%BE%D1%80%D0%BD%D0%B0%D1%8F_1.ipynb\" target=\"_parent\"><img src=\"https://colab.research.google.com/assets/colab-badge.svg\" alt=\"Open In Colab\"/></a>"
      ]
    },
    {
      "cell_type": "code",
      "execution_count": null,
      "metadata": {
        "id": "K4A9AqwuBUEM"
      },
      "outputs": [],
      "source": [
        "a = 5\n",
        "b = int(input())\n",
        "print(a * b)\n",
        "\n",
        "a = int(input())\n",
        "b = int(input())\n",
        "print((a + b) ** 2)\n",
        "\n",
        "a = 15\n",
        "b = 10\n",
        "c = int(input())\n",
        "print((a + b) / c)\n",
        "\n",
        "a = int(input())\n",
        "b = int(input())\n",
        "c = a ** 2 + 2 * a * b + b ** 2\n",
        "print(c)\n",
        "\n",
        "a = int(input())\n",
        "b = int(input())\n",
        "c = int(input())\n",
        "s = 0.5 * a * c\n",
        "p = a + b + c\n",
        "print(s, p)\n",
        "\n",
        "a = float(input())\n",
        "b = float(input())\n",
        "c = int(input())\n",
        "d = int(input())\n",
        "s = a // b\n",
        "p = c * d\n",
        "f = c % d\n",
        "print(s, p, f)\n",
        "\n",
        "n = int(input())\n",
        "a = n // (24 * 60 * 60)\n",
        "b = n // (60 * 60)\n",
        "c = n // 60\n",
        "print(a, b, c)\n",
        "\n",
        "n = input()\n",
        "a = n + n * 2 + n * 3\n",
        "print(a)"
      ]
    }
  ]
}